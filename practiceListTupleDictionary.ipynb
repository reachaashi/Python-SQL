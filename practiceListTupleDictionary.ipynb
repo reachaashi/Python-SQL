{
  "nbformat": 4,
  "nbformat_minor": 0,
  "metadata": {
    "colab": {
      "provenance": []
    },
    "kernelspec": {
      "name": "python3",
      "display_name": "Python 3"
    },
    "language_info": {
      "name": "python"
    }
  },
  "cells": [
    {
      "cell_type": "code",
      "execution_count": 1,
      "metadata": {
        "colab": {
          "base_uri": "https://localhost:8080/"
        },
        "id": "YbpU4dnfPvVq",
        "outputId": "f4cbfd7c-3281-444c-85df-bfc53490a8a6",
        "collapsed": true
      },
      "outputs": [
        {
          "output_type": "stream",
          "name": "stdout",
          "text": [
            "[78.5, 65.9, 87.9]\n",
            "<class 'list'>\n",
            "87.9\n",
            "3\n"
          ]
        }
      ],
      "source": [
        "#lists...it can store elements of differrent data types\n",
        "marks=[78.5,65.9,87.9]\n",
        "print(marks)\n",
        "print(type(marks))\n",
        "print(marks[2])\n",
        "print(len(marks))\n"
      ]
    },
    {
      "cell_type": "code",
      "source": [
        "#lists are mutable in python\n",
        "student=['aashi','95','23']\n",
        "print(student)\n",
        "print(student[2])\n",
        "student[2]='jain'\n",
        "print(student)"
      ],
      "metadata": {
        "colab": {
          "base_uri": "https://localhost:8080/"
        },
        "id": "0gXG8vYjRk0Z",
        "outputId": "f8f2bf0e-c228-4fab-f054-88994557f5bd"
      },
      "execution_count": null,
      "outputs": [
        {
          "output_type": "stream",
          "name": "stdout",
          "text": [
            "['aashi', '95', '23']\n",
            "23\n",
            "['aashi', '95', 'jain']\n"
          ]
        }
      ]
    },
    {
      "cell_type": "code",
      "source": [
        "marks=[98,78,90,70,60]\n",
        "print(marks[1:4])"
      ],
      "metadata": {
        "colab": {
          "base_uri": "https://localhost:8080/"
        },
        "id": "fhrSaGnAbND6",
        "outputId": "557ab02e-c206-475c-febb-8d14100c6f06"
      },
      "execution_count": null,
      "outputs": [
        {
          "output_type": "stream",
          "name": "stdout",
          "text": [
            "[78, 90, 70]\n"
          ]
        }
      ]
    },
    {
      "cell_type": "code",
      "source": [
        "marks=[98,78,90,70,60]\n",
        "print(marks[-3:-1])"
      ],
      "metadata": {
        "colab": {
          "base_uri": "https://localhost:8080/"
        },
        "id": "T41YmB0TbjJy",
        "outputId": "af1b3425-01de-4cc5-c6a1-f797fb056004"
      },
      "execution_count": null,
      "outputs": [
        {
          "output_type": "stream",
          "name": "stdout",
          "text": [
            "[90, 70]\n"
          ]
        }
      ]
    },
    {
      "cell_type": "code",
      "source": [
        "list=[98,70,60,50]\n",
        "list.append(68)\n",
        "print(list)#list is mutated"
      ],
      "metadata": {
        "colab": {
          "base_uri": "https://localhost:8080/"
        },
        "id": "ZV6F56avb1na",
        "outputId": "6b7c47c7-2b0a-43ab-bc10-1c8b9e14ec39"
      },
      "execution_count": null,
      "outputs": [
        {
          "output_type": "stream",
          "name": "stdout",
          "text": [
            "[98, 70, 60, 50, 68]\n"
          ]
        }
      ]
    },
    {
      "cell_type": "code",
      "source": [
        "list.sort\n",
        "print(list)"
      ],
      "metadata": {
        "colab": {
          "base_uri": "https://localhost:8080/"
        },
        "id": "DMFqscXBet4x",
        "outputId": "1ce69976-33d6-4cbc-c82e-f827b7def8bc"
      },
      "execution_count": null,
      "outputs": [
        {
          "output_type": "stream",
          "name": "stdout",
          "text": [
            "[50, 60, 68, 70, 98]\n"
          ]
        }
      ]
    },
    {
      "cell_type": "code",
      "source": [
        "list.sort(reverse=True)\n",
        "print(list)"
      ],
      "metadata": {
        "colab": {
          "base_uri": "https://localhost:8080/"
        },
        "id": "0b3Hm0Foe__n",
        "outputId": "3a79a74f-316d-442f-a54b-36aaf2d84e19"
      },
      "execution_count": null,
      "outputs": [
        {
          "output_type": "stream",
          "name": "stdout",
          "text": [
            "[98, 70, 68, 60, 50]\n"
          ]
        }
      ]
    },
    {
      "cell_type": "code",
      "source": [
        "list=['apple','orange','banana']\n",
        "print(list.sort())\n",
        "print(list)"
      ],
      "metadata": {
        "colab": {
          "base_uri": "https://localhost:8080/"
        },
        "id": "0hP9iJ2mgIni",
        "outputId": "0cb1efd2-269a-4787-a660-d6c6c4be05ec"
      },
      "execution_count": null,
      "outputs": [
        {
          "output_type": "stream",
          "name": "stdout",
          "text": [
            "None\n",
            "['apple', 'banana', 'orange']\n"
          ]
        }
      ]
    },
    {
      "cell_type": "code",
      "source": [
        "list.reverse()\n",
        "print(list)"
      ],
      "metadata": {
        "colab": {
          "base_uri": "https://localhost:8080/"
        },
        "id": "m3U5zotig0gQ",
        "outputId": "f48a4f3f-775e-4492-f8d1-61e4c921b502"
      },
      "execution_count": null,
      "outputs": [
        {
          "output_type": "stream",
          "name": "stdout",
          "text": [
            "['orange', 'banana', 'apple']\n"
          ]
        }
      ]
    },
    {
      "cell_type": "code",
      "source": [
        "#for insertin an element in list\n",
        "#list.insert(index,element)\n",
        "list=[1,7,8,4,7,9]\n",
        "list.insert(2,3)\n",
        "list.append(10)\n",
        "print(list)"
      ],
      "metadata": {
        "colab": {
          "base_uri": "https://localhost:8080/"
        },
        "id": "99t4LTIAhZWW",
        "outputId": "70272d1c-6c5d-4225-bcc9-f7a47eb40c27"
      },
      "execution_count": null,
      "outputs": [
        {
          "output_type": "stream",
          "name": "stdout",
          "text": [
            "[1, 7, 3, 8, 4, 7, 9, 10]\n"
          ]
        }
      ]
    },
    {
      "cell_type": "code",
      "source": [
        "#tupple they are immutable just like strings\n",
        "tup=(1,5,8,9)\n",
        "print(type(tup))"
      ],
      "metadata": {
        "id": "_gUXJVonjAmS",
        "colab": {
          "base_uri": "https://localhost:8080/"
        },
        "outputId": "bf1d0bf9-0fa8-4ae2-a029-514c3f599416"
      },
      "execution_count": null,
      "outputs": [
        {
          "output_type": "stream",
          "name": "stdout",
          "text": [
            "<class 'tuple'>\n"
          ]
        }
      ]
    },
    {
      "cell_type": "code",
      "source": [
        "tup[0]=5#just like string tupples are immuatble\n",
        "print(tup)"
      ],
      "metadata": {
        "colab": {
          "base_uri": "https://localhost:8080/",
          "height": 158
        },
        "collapsed": true,
        "id": "VtvPZCUX0PCM",
        "outputId": "1f390a97-9816-4e09-cc8a-6e50567ec080"
      },
      "execution_count": null,
      "outputs": [
        {
          "output_type": "error",
          "ename": "TypeError",
          "evalue": "'int' object does not support item assignment",
          "traceback": [
            "\u001b[0;31m---------------------------------------------------------------------------\u001b[0m",
            "\u001b[0;31mTypeError\u001b[0m                                 Traceback (most recent call last)",
            "\u001b[0;32m<ipython-input-3-46592d0151e7>\u001b[0m in \u001b[0;36m<cell line: 0>\u001b[0;34m()\u001b[0m\n\u001b[0;32m----> 1\u001b[0;31m \u001b[0mtup\u001b[0m\u001b[0;34m[\u001b[0m\u001b[0;36m0\u001b[0m\u001b[0;34m]\u001b[0m\u001b[0;34m=\u001b[0m\u001b[0;36m5\u001b[0m\u001b[0;31m#just like string tupples are immuatble\u001b[0m\u001b[0;34m\u001b[0m\u001b[0;34m\u001b[0m\u001b[0m\n\u001b[0m\u001b[1;32m      2\u001b[0m \u001b[0mprint\u001b[0m\u001b[0;34m(\u001b[0m\u001b[0mtup\u001b[0m\u001b[0;34m)\u001b[0m\u001b[0;34m\u001b[0m\u001b[0;34m\u001b[0m\u001b[0m\n",
            "\u001b[0;31mTypeError\u001b[0m: 'int' object does not support item assignment"
          ]
        }
      ]
    },
    {
      "cell_type": "code",
      "source": [
        "tup=(1)\n",
        "print(type(tup))#for it to be treated as tupple we use a comma"
      ],
      "metadata": {
        "colab": {
          "base_uri": "https://localhost:8080/"
        },
        "id": "19NFQMMj0aht",
        "outputId": "039ae2b3-b7d2-4fe5-cbfd-dc2471d52c77"
      },
      "execution_count": null,
      "outputs": [
        {
          "output_type": "stream",
          "name": "stdout",
          "text": [
            "<class 'int'>\n"
          ]
        }
      ]
    },
    {
      "cell_type": "code",
      "source": [
        "#tuple methods\n",
        "tup=(1,5,7,9)\n",
        "print(tup.index(5))"
      ],
      "metadata": {
        "colab": {
          "base_uri": "https://localhost:8080/"
        },
        "id": "sAxtvjOv3TGl",
        "outputId": "0f81bb0e-a1a3-46d3-98c1-d72b3cef79f6"
      },
      "execution_count": null,
      "outputs": [
        {
          "output_type": "stream",
          "name": "stdout",
          "text": [
            "1\n"
          ]
        }
      ]
    },
    {
      "cell_type": "code",
      "source": [
        "tup=(1,3,5,6,5)\n",
        "print(tup.count(5))\n",
        "print(tup[1])"
      ],
      "metadata": {
        "colab": {
          "base_uri": "https://localhost:8080/"
        },
        "id": "CCCOLn_SSqIr",
        "outputId": "17d486bb-6230-4a83-c2fa-fdd5f6c99dd9"
      },
      "execution_count": null,
      "outputs": [
        {
          "output_type": "stream",
          "name": "stdout",
          "text": [
            "2\n",
            "3\n"
          ]
        }
      ]
    },
    {
      "cell_type": "code",
      "source": [
        "#to check whetehr a nubr is palindromeor not\n",
        "list1=[1,2,1]\n",
        "copy_list=list1.copy()#we copy the list\n",
        "copy_list.reverse()#then we reverse the copy of the list\n",
        "if copy_list==list1:\n",
        "  print(\"palindrome\")\n",
        "else:\n",
        "  print('not')\n",
        "\n"
      ],
      "metadata": {
        "colab": {
          "base_uri": "https://localhost:8080/"
        },
        "id": "EsAu-GOxSzOy",
        "outputId": "9c5e255c-114a-401d-858b-ea057133c3f1"
      },
      "execution_count": null,
      "outputs": [
        {
          "output_type": "stream",
          "name": "stdout",
          "text": [
            "palindrome\n"
          ]
        }
      ]
    },
    {
      "cell_type": "code",
      "source": [
        "tup=('A','C','D','A','B','B','A')\n",
        "print(tup.count('A'))"
      ],
      "metadata": {
        "colab": {
          "base_uri": "https://localhost:8080/"
        },
        "id": "_3LjL_YSUC_c",
        "outputId": "d2dd5984-52a2-4029-c0b5-f171f02849cf"
      },
      "execution_count": null,
      "outputs": [
        {
          "output_type": "stream",
          "name": "stdout",
          "text": [
            "3\n"
          ]
        }
      ]
    },
    {
      "cell_type": "code",
      "source": [
        "list=['A','C','D','A','B','B','A']\n",
        "list.sort()\n",
        "print(list)"
      ],
      "metadata": {
        "colab": {
          "base_uri": "https://localhost:8080/"
        },
        "outputId": "43a7c4ca-af7f-4c8e-9e1c-2fef0677f12b",
        "id": "8zG6UjmzUiKI"
      },
      "execution_count": null,
      "outputs": [
        {
          "output_type": "stream",
          "name": "stdout",
          "text": [
            "['A', 'A', 'A', 'B', 'B', 'C', 'D']\n"
          ]
        }
      ]
    },
    {
      "cell_type": "code",
      "source": [
        "list=['A','C','D','A','B','B','A']\n",
        "print(sorted(list))"
      ],
      "metadata": {
        "colab": {
          "base_uri": "https://localhost:8080/"
        },
        "outputId": "a9dd42d7-1cee-4307-d585-e80e745f5793",
        "id": "fWK1JC-GWitt"
      },
      "execution_count": null,
      "outputs": [
        {
          "output_type": "stream",
          "name": "stdout",
          "text": [
            "['A', 'A', 'A', 'B', 'B', 'C', 'D']\n"
          ]
        }
      ]
    },
    {
      "cell_type": "code",
      "source": [
        "#dictionary..it is mutable..there is no order therefore no index\n",
        "info={\n",
        "    'name':'aashi',\n",
        "    'age':23,\n",
        "    'city':'agra',\n",
        "    'state':'up'\n",
        "}\n",
        "print(info['name'])"
      ],
      "metadata": {
        "colab": {
          "base_uri": "https://localhost:8080/"
        },
        "id": "9nEbSfbncEX3",
        "outputId": "c37ebdde-5f21-4ec3-a084-9d1425083425"
      },
      "execution_count": null,
      "outputs": [
        {
          "output_type": "stream",
          "name": "stdout",
          "text": [
            "aashi\n"
          ]
        }
      ]
    },
    {
      "cell_type": "code",
      "source": [],
      "metadata": {
        "id": "FkfnHxQPcp1L"
      },
      "execution_count": null,
      "outputs": []
    },
    {
      "cell_type": "code",
      "source": [
        "\n",
        "info={\n",
        "    'name':'aashi',\n",
        "    'age':23,\n",
        "    'city':'agra',\n",
        "    'state':'up'\n",
        "}\n",
        "print(info.values())"
      ],
      "metadata": {
        "colab": {
          "base_uri": "https://localhost:8080/"
        },
        "outputId": "d75b80f9-6f1f-4608-c1e2-3fc1295addbc",
        "id": "AuRpLl-3hmTA"
      },
      "execution_count": null,
      "outputs": [
        {
          "output_type": "stream",
          "name": "stdout",
          "text": [
            "dict_values(['aashi', 23, 'agra', 'up'])\n"
          ]
        }
      ]
    },
    {
      "cell_type": "code",
      "source": [
        "info={}\n",
        "print(type(info))"
      ],
      "metadata": {
        "colab": {
          "base_uri": "https://localhost:8080/"
        },
        "id": "1mWFXVwu6pwZ",
        "outputId": "0d296c20-ca6b-4879-bfc9-093d134ec895"
      },
      "execution_count": null,
      "outputs": [
        {
          "output_type": "stream",
          "name": "stdout",
          "text": [
            "<class 'dict'>\n"
          ]
        }
      ]
    },
    {
      "cell_type": "code",
      "source": [
        "#dictionary..it is mutable..there is no order therefore no index\n",
        "info={\n",
        "    'name':'aashi',\n",
        "    'age':23,\n",
        "    'city':'agra',\n",
        "    'state':'up'\n",
        "}\n",
        "print(info.get('name'))"
      ],
      "metadata": {
        "colab": {
          "base_uri": "https://localhost:8080/"
        },
        "outputId": "774b3e34-2456-42c5-ff89-14b8efc7f4c7",
        "id": "imENadepkWJE"
      },
      "execution_count": null,
      "outputs": [
        {
          "output_type": "stream",
          "name": "stdout",
          "text": [
            "aashi\n"
          ]
        }
      ]
    },
    {
      "cell_type": "code",
      "source": [
        "#dictionary..it is mutable..there is no order therefore no index\n",
        "info={\n",
        "    'name':'aashi',\n",
        "    'age':23,\n",
        "    'city':'agra',\n",
        "    'state':'up'\n",
        "}\n",
        "print(info.items())"
      ],
      "metadata": {
        "colab": {
          "base_uri": "https://localhost:8080/"
        },
        "outputId": "e18aa39b-b4ac-42cd-f7dc-60be77d71512",
        "id": "j-Hsj7_njuwe"
      },
      "execution_count": null,
      "outputs": [
        {
          "output_type": "stream",
          "name": "stdout",
          "text": [
            "dict_items([('name', 'aashi'), ('age', 23), ('city', 'agra'), ('state', 'up')])\n"
          ]
        }
      ]
    },
    {
      "cell_type": "code",
      "source": [
        "#sets in python\n",
        "collection={8,2,8,0,8,7,2,'aashi','jain'}\n",
        "print(collection)\n",
        "print(type(collection))"
      ],
      "metadata": {
        "colab": {
          "base_uri": "https://localhost:8080/"
        },
        "id": "4z6-qTcLrw39",
        "outputId": "e362d609-7907-4ec8-8f80-ab69813fc6d7"
      },
      "execution_count": null,
      "outputs": [
        {
          "output_type": "stream",
          "name": "stdout",
          "text": [
            "{0, 2, 'jain', 7, 8, 'aashi'}\n",
            "<class 'set'>\n"
          ]
        }
      ]
    },
    {
      "cell_type": "code",
      "source": [
        "#empty set\n",
        "#set is mutable but the elemets in set are imutable\n",
        "#we can pass tuple but not lists and ictionary\n",
        "collection=set()\n",
        "print(collection)"
      ],
      "metadata": {
        "colab": {
          "base_uri": "https://localhost:8080/"
        },
        "id": "-Q9yAVsmiKf_",
        "outputId": "79bb4cda-b430-4ed2-b6e9-c1eb19e0d63f"
      },
      "execution_count": null,
      "outputs": [
        {
          "output_type": "stream",
          "name": "stdout",
          "text": [
            "set()\n"
          ]
        }
      ]
    },
    {
      "cell_type": "code",
      "source": [
        "collection=set()\n",
        "collection.add(1)\n",
        "collection.add(2)\n",
        "collection.add(9)\n",
        "collection.add(0)\n",
        "collection.add(3)\n",
        "#collection.pop()\n",
        "#collection.remove(0)\n",
        "#collection.clear()\n",
        "print(collection)"
      ],
      "metadata": {
        "id": "lhq4d65M5lp0",
        "colab": {
          "base_uri": "https://localhost:8080/"
        },
        "outputId": "e4870532-9ed5-479c-9539-f5789592ec8d"
      },
      "execution_count": null,
      "outputs": [
        {
          "output_type": "stream",
          "name": "stdout",
          "text": [
            "{0, 1, 2, 3, 9}\n"
          ]
        }
      ]
    },
    {
      "cell_type": "code",
      "source": [
        "set1={1,2,7,9}\n",
        "set2={0,8,3,2,1,6}\n",
        "print(set1.union(set2))\n",
        "print(set1.intersection(set2))\n",
        "print(set1)\n",
        "print(set2)"
      ],
      "metadata": {
        "colab": {
          "base_uri": "https://localhost:8080/"
        },
        "id": "QRNNFS0n7E0J",
        "outputId": "5dfda44e-bdf9-41b6-f505-e01b7a1fd6e7"
      },
      "execution_count": null,
      "outputs": [
        {
          "output_type": "stream",
          "name": "stdout",
          "text": [
            "{0, 1, 2, 3, 6, 7, 8, 9}\n",
            "{1, 2}\n",
            "{1, 2, 9, 7}\n",
            "{0, 1, 2, 3, 6, 8}\n"
          ]
        }
      ]
    },
    {
      "cell_type": "code",
      "source": [
        "word={\n",
        "    \"table\" : [\"a piece of furniture\",\"list of facts and figures\"],\n",
        "    \"cat\": \"a small animal\",\n",
        "}\n",
        "print(word)"
      ],
      "metadata": {
        "colab": {
          "base_uri": "https://localhost:8080/"
        },
        "id": "LGtxaLzY-k6N",
        "outputId": "b7ffa179-eba5-4323-c22e-e916988d52d9"
      },
      "execution_count": null,
      "outputs": [
        {
          "output_type": "stream",
          "name": "stdout",
          "text": [
            "{'table': ['a piece of furniture', 'list of facts and figures'], 'cat': 'a small animal'}\n"
          ]
        }
      ]
    },
    {
      "cell_type": "code",
      "source": [
        "set_classroom={'python','java','cpp',\n",
        "               'javascrpit','java','python','java','cpp','C'}\n",
        "print(len(set_classroom))\n"
      ],
      "metadata": {
        "colab": {
          "base_uri": "https://localhost:8080/"
        },
        "id": "QO3V2o3dCcM1",
        "outputId": "a61b4e54-3f90-4e18-bdaa-05f3dbb90da8"
      },
      "execution_count": null,
      "outputs": [
        {
          "output_type": "stream",
          "name": "stdout",
          "text": [
            "5\n"
          ]
        }
      ]
    },
    {
      "cell_type": "code",
      "source": [
        "\n",
        "grade={}\n",
        "sub1=input('enter the subject')\n",
        "marks=input('enter rthe marks')\n",
        "print(f\"{sub1}:{marks}\")"
      ],
      "metadata": {
        "colab": {
          "base_uri": "https://localhost:8080/"
        },
        "id": "b3x5IXO4EkAp",
        "outputId": "210de30a-1a29-4850-8266-732d1655dbb3"
      },
      "execution_count": null,
      "outputs": [
        {
          "output_type": "stream",
          "name": "stdout",
          "text": [
            "enter the subjectmath\n",
            "enter rthe marks52\n",
            "math:52\n"
          ]
        }
      ]
    },
    {
      "cell_type": "code",
      "source": [
        "marks={}\n",
        "x=int(input('enter for phy'))\n",
        "marks.update({'phy':x})\n",
        "x=int(input('enter for chem'))\n",
        "marks.update({'chem':x})\n",
        "x=int(input('enter for math'))\n",
        "marks.update({'math':x})\n",
        "print(marks)"
      ],
      "metadata": {
        "colab": {
          "base_uri": "https://localhost:8080/"
        },
        "id": "pVTjgg18F75V",
        "outputId": "e89cdf70-b7d3-408f-f5c5-8ac4c0c6e906"
      },
      "execution_count": null,
      "outputs": [
        {
          "output_type": "stream",
          "name": "stdout",
          "text": [
            "enter for phy65\n",
            "enter for chem36\n",
            "enter for math56\n",
            "{'phy': 65, 'chem': 36, 'math': 56}\n"
          ]
        }
      ]
    }
  ]
}