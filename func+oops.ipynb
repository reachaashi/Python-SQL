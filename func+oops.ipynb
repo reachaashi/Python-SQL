{
  "nbformat": 4,
  "nbformat_minor": 0,
  "metadata": {
    "colab": {
      "provenance": []
    },
    "kernelspec": {
      "name": "python3",
      "display_name": "Python 3"
    },
    "language_info": {
      "name": "python"
    }
  },
  "cells": [
    {
      "cell_type": "code",
      "execution_count": null,
      "metadata": {
        "id": "8FnqQ6f_NykU"
      },
      "outputs": [],
      "source": [
        "def is_even(num):\n",
        "  if type(num)==int:\n",
        "    if num%2==0:\n",
        "      return 'even'\n",
        "    else:\n",
        "     return'odd'"
      ]
    },
    {
      "cell_type": "code",
      "source": [
        "for i in range(1,11):\n",
        "  x=is_even(i)\n",
        "  print(x)"
      ],
      "metadata": {
        "colab": {
          "base_uri": "https://localhost:8080/"
        },
        "id": "gc1vgONQORmH",
        "outputId": "24ddc6cb-63e1-4c1b-96d7-9c5d230b8e1a"
      },
      "execution_count": null,
      "outputs": [
        {
          "output_type": "stream",
          "name": "stdout",
          "text": [
            "odd\n",
            "even\n",
            "odd\n",
            "even\n",
            "odd\n",
            "even\n",
            "odd\n",
            "even\n",
            "odd\n",
            "even\n"
          ]
        }
      ]
    },
    {
      "cell_type": "code",
      "source": [
        "#args and kwargs\n",
        "#args allow us to pass variavble number of keywords arguments to a function\n"
      ],
      "metadata": {
        "id": "NYotbqTtORot"
      },
      "execution_count": null,
      "outputs": []
    },
    {
      "cell_type": "code",
      "source": [
        "def multiply(*args):\n",
        "  product=1\n",
        "\n",
        "  for i in args:\n",
        "    product=product*i\n",
        "  print(args)\n",
        "  return product"
      ],
      "metadata": {
        "id": "WXjm1LpLORrJ"
      },
      "execution_count": null,
      "outputs": []
    },
    {
      "cell_type": "code",
      "source": [
        "multiply(1,4,5)"
      ],
      "metadata": {
        "colab": {
          "base_uri": "https://localhost:8080/"
        },
        "id": "hdCoy2XUORt5",
        "outputId": "d353885b-1839-4be4-f4ff-b4a902d3f246"
      },
      "execution_count": null,
      "outputs": [
        {
          "output_type": "stream",
          "name": "stdout",
          "text": [
            "(1, 4, 5)\n"
          ]
        },
        {
          "output_type": "execute_result",
          "data": {
            "text/plain": [
              "20"
            ]
          },
          "metadata": {},
          "execution_count": 5
        }
      ]
    },
    {
      "cell_type": "code",
      "source": [
        "print(type.__doc__)"
      ],
      "metadata": {
        "colab": {
          "base_uri": "https://localhost:8080/"
        },
        "id": "IZHleFvDQ8Y6",
        "outputId": "2fd5c7d0-f622-4e1f-8b66-f457dd2f2947"
      },
      "execution_count": null,
      "outputs": [
        {
          "output_type": "stream",
          "name": "stdout",
          "text": [
            "type(object) -> the object's type\n",
            "type(name, bases, dict, **kwds) -> a new type\n"
          ]
        }
      ]
    },
    {
      "cell_type": "code",
      "source": [
        "#kwargs is used to pass any number of arguments which here means key value pair like a pythin dict"
      ],
      "metadata": {
        "id": "MAFlw1XKQ8dC"
      },
      "execution_count": null,
      "outputs": []
    },
    {
      "cell_type": "code",
      "source": [
        "def display(**kwargs):\n",
        "   for (key,value) in kwargs.items():\n",
        "    print(key,\":\",value)"
      ],
      "metadata": {
        "id": "FJ4fFC-iQ8gD"
      },
      "execution_count": null,
      "outputs": []
    },
    {
      "cell_type": "code",
      "source": [
        "display(india='delhi',srilanlaka='colombo')"
      ],
      "metadata": {
        "id": "AlWkqTziQ8iD",
        "colab": {
          "base_uri": "https://localhost:8080/"
        },
        "outputId": "fd28bb99-a784-4324-8400-5296c28ea457"
      },
      "execution_count": null,
      "outputs": [
        {
          "output_type": "stream",
          "name": "stdout",
          "text": [
            "india : delhi\n",
            "srilanlaka : colombo\n"
          ]
        }
      ]
    },
    {
      "cell_type": "code",
      "source": [
        "def display(**aashi):\n",
        "   for (key,value) in aashi.items():\n",
        "    print(key,\":\",value)"
      ],
      "metadata": {
        "id": "t70Q-OMWQ8lb"
      },
      "execution_count": null,
      "outputs": []
    },
    {
      "cell_type": "markdown",
      "source": [
        "order of argument matters\n",
        "normal>args>kwargs"
      ],
      "metadata": {
        "id": "tx5AlJFHX9sp"
      }
    },
    {
      "cell_type": "markdown",
      "source": [
        "Learning the concept of variable scope\n",
        "\n"
      ],
      "metadata": {
        "id": "qWPEwi2ffOX_"
      }
    },
    {
      "cell_type": "code",
      "source": [
        "def g(y):\n",
        "  print(x)\n",
        "  print(x+1)\n",
        "x=5\n",
        "g(x)\n",
        "print(x)"
      ],
      "metadata": {
        "colab": {
          "base_uri": "https://localhost:8080/"
        },
        "id": "QtMbM-EvX6b6",
        "outputId": "2b4fd1f4-3ef1-4579-8b15-63dc5487ca4e"
      },
      "execution_count": null,
      "outputs": [
        {
          "output_type": "stream",
          "name": "stdout",
          "text": [
            "5\n",
            "6\n",
            "5\n"
          ]
        }
      ]
    },
    {
      "cell_type": "code",
      "source": [
        "def f(y):#local variable\n",
        "   x=1\n",
        "   x+=1\n",
        "   print(x)\n",
        "x=5#global variable\n",
        "f(x)\n",
        "print(x)"
      ],
      "metadata": {
        "colab": {
          "base_uri": "https://localhost:8080/"
        },
        "id": "ZYkFTjh7X6lm",
        "outputId": "b6b2adaa-5252-4828-9c0d-78e9434d184b"
      },
      "execution_count": null,
      "outputs": [
        {
          "output_type": "stream",
          "name": "stdout",
          "text": [
            "2\n",
            "5\n"
          ]
        }
      ]
    },
    {
      "cell_type": "code",
      "source": [
        "def h(y):\n",
        "#theres no variable therefore you cannot change it\n",
        "#now to change we use keyword like global\n",
        "    global x\n",
        "    x+=1\n",
        "x=5\n",
        "h(x)\n",
        "print(x)"
      ],
      "metadata": {
        "colab": {
          "base_uri": "https://localhost:8080/"
        },
        "id": "sMLcDVUhX6o5",
        "outputId": "12380c06-71b7-4fd3-f63b-058ba19e9b47"
      },
      "execution_count": null,
      "outputs": [
        {
          "output_type": "stream",
          "name": "stdout",
          "text": [
            "6\n"
          ]
        }
      ]
    },
    {
      "cell_type": "code",
      "source": [
        "def f(x):\n",
        "    x=x+1\n",
        "    print('in f(x):x=',x)\n",
        "    return x\n",
        "x=3\n",
        "z=f(x)\n",
        "print('in main program scope: z=',z )\n",
        "print('in main program scope: x=',x)"
      ],
      "metadata": {
        "id": "nhafZmbxmJVA",
        "colab": {
          "base_uri": "https://localhost:8080/"
        },
        "outputId": "a2fabfd2-aae2-460f-cadb-67ce6fca4421"
      },
      "execution_count": null,
      "outputs": [
        {
          "output_type": "stream",
          "name": "stdout",
          "text": [
            "in f(x):x= 4\n",
            "in main program scope: z= 4\n",
            "in main program scope: x= 3\n"
          ]
        }
      ]
    },
    {
      "cell_type": "code",
      "source": [
        "#visualize this line by line\n",
        "def g(x):\n",
        "    def h():\n",
        "        x='abc'\n",
        "    x=x+1\n",
        "    print('in g(x) : x =',x)\n",
        "    h()\n",
        "    return x\n",
        "x=3\n",
        "z=g(x)"
      ],
      "metadata": {
        "id": "Den8Gp_1mJXK",
        "colab": {
          "base_uri": "https://localhost:8080/"
        },
        "outputId": "6100cede-9943-4ffe-ca1c-d52fe493a840"
      },
      "execution_count": null,
      "outputs": [
        {
          "output_type": "stream",
          "name": "stdout",
          "text": [
            "in g(x) : x = 4\n"
          ]
        }
      ]
    },
    {
      "cell_type": "code",
      "source": [
        " #lambda function\n"
      ],
      "metadata": {
        "id": "y6SIHLfvmJaj"
      },
      "execution_count": null,
      "outputs": []
    },
    {
      "cell_type": "markdown",
      "source": [
        "lambda func is a small anonymous func\n",
        "it can take any no ofv arguments but can have only one expression"
      ],
      "metadata": {
        "id": "7C7dsyDIlzDO"
      }
    },
    {
      "cell_type": "code",
      "source": [
        "a=lambda x:x**2\n",
        "a(3)"
      ],
      "metadata": {
        "colab": {
          "base_uri": "https://localhost:8080/"
        },
        "id": "0VbcihmnmbPD",
        "outputId": "98e64c84-3bce-4681-f97a-47af55d4e8f9"
      },
      "execution_count": null,
      "outputs": [
        {
          "output_type": "execute_result",
          "data": {
            "text/plain": [
              "9"
            ]
          },
          "metadata": {},
          "execution_count": 2
        }
      ]
    },
    {
      "cell_type": "code",
      "source": [
        "a=lambda x,y:x+y\n",
        "a(2,3)"
      ],
      "metadata": {
        "colab": {
          "base_uri": "https://localhost:8080/"
        },
        "id": "1jxc-hq8moR1",
        "outputId": "e575a49f-65b1-479a-fd3c-a06db94af72c"
      },
      "execution_count": null,
      "outputs": [
        {
          "output_type": "execute_result",
          "data": {
            "text/plain": [
              "5"
            ]
          },
          "metadata": {},
          "execution_count": 3
        }
      ]
    },
    {
      "cell_type": "markdown",
      "source": [
        "  diff btw lambda and normal func\n",
        "  1. no name\n",
        "  2. lambda is written in 1 line\n",
        "  3. not reusable\n",
        "  we use them with HOF(higher order function)"
      ],
      "metadata": {
        "id": "OcLAfppwmydA"
      }
    },
    {
      "cell_type": "code",
      "source": [
        "#check if a string has a\n",
        "a=lambda s:'a' in s\n",
        "a('string')"
      ],
      "metadata": {
        "colab": {
          "base_uri": "https://localhost:8080/"
        },
        "id": "io0nM1MjmoVO",
        "outputId": "6a76ec12-266a-423d-aadf-d28f450c2319"
      },
      "execution_count": null,
      "outputs": [
        {
          "output_type": "execute_result",
          "data": {
            "text/plain": [
              "False"
            ]
          },
          "metadata": {},
          "execution_count": 4
        }
      ]
    },
    {
      "cell_type": "code",
      "source": [
        "a=lambda x:'even' if x%2==0 else 'odd'\n",
        "a(10)"
      ],
      "metadata": {
        "colab": {
          "base_uri": "https://localhost:8080/",
          "height": 36
        },
        "id": "kVb9xbEZnjUa",
        "outputId": "1f82121c-1493-443a-b52e-7780e091b2df"
      },
      "execution_count": null,
      "outputs": [
        {
          "output_type": "execute_result",
          "data": {
            "text/plain": [
              "'even'"
            ],
            "application/vnd.google.colaboratory.intrinsic+json": {
              "type": "string"
            }
          },
          "metadata": {},
          "execution_count": 6
        }
      ]
    },
    {
      "cell_type": "code",
      "source": [
        "#example of higher order function\n",
        "def transform(f,L):\n",
        "    output=[]\n",
        "    for i in L:\n",
        "        output.append(f(i))\n",
        "    print(output)\n",
        "L=[1,2,3,4]\n",
        "transform(lambda x:x**2,L)"
      ],
      "metadata": {
        "colab": {
          "base_uri": "https://localhost:8080/"
        },
        "id": "Wm174WotqNL0",
        "outputId": "2291d76d-7cbc-4ab3-fd3c-20af0b6483ae"
      },
      "execution_count": null,
      "outputs": [
        {
          "output_type": "stream",
          "name": "stdout",
          "text": [
            "[1, 4, 9, 16]\n"
          ]
        }
      ]
    },
    {
      "cell_type": "markdown",
      "source": [
        "MAP"
      ],
      "metadata": {
        "id": "eTfb8i7rrZE7"
      }
    },
    {
      "cell_type": "code",
      "source": [
        "map(lambda x:x**2,[1,2,3,4,5])"
      ],
      "metadata": {
        "colab": {
          "base_uri": "https://localhost:8080/"
        },
        "id": "cDTHkLkmriyz",
        "outputId": "0cf1c056-4f08-4143-9bbc-3908b664c715"
      },
      "execution_count": null,
      "outputs": [
        {
          "output_type": "execute_result",
          "data": {
            "text/plain": [
              "<map at 0x7ea4871fb5b0>"
            ]
          },
          "metadata": {},
          "execution_count": 9
        }
      ]
    },
    {
      "cell_type": "code",
      "source": [
        "list(map(lambda x:x**2,[1,2,3,4,5]))"
      ],
      "metadata": {
        "colab": {
          "base_uri": "https://localhost:8080/"
        },
        "id": "wbmPTV2OriJx",
        "outputId": "aa28df89-e444-4558-f94d-50f256a3843d"
      },
      "execution_count": null,
      "outputs": [
        {
          "output_type": "execute_result",
          "data": {
            "text/plain": [
              "[1, 4, 9, 16, 25]"
            ]
          },
          "metadata": {},
          "execution_count": 10
        }
      ]
    },
    {
      "cell_type": "code",
      "source": [
        "#odd even listing of items\n",
        "L=[1,2,3,4,5,6,7]\n",
        "list(map(lambda x:'even' if x%2==0 else 'odd',L))\n"
      ],
      "metadata": {
        "colab": {
          "base_uri": "https://localhost:8080/"
        },
        "id": "_6WWJKuAr8Pn",
        "outputId": "6b9bd990-a47d-48e0-cc39-0a04d81d8932"
      },
      "execution_count": null,
      "outputs": [
        {
          "output_type": "execute_result",
          "data": {
            "text/plain": [
              "['odd', 'even', 'odd', 'even', 'odd', 'even', 'odd']"
            ]
          },
          "metadata": {},
          "execution_count": 12
        }
      ]
    },
    {
      "cell_type": "markdown",
      "source": [
        "FILTER"
      ],
      "metadata": {
        "id": "cTxqtA-qx_JW"
      }
    },
    {
      "cell_type": "code",
      "source": [
        " L=[1,3,5,6,7,8,9,15,0]\n",
        " list(filter(lambda x:x>6,L))"
      ],
      "metadata": {
        "colab": {
          "base_uri": "https://localhost:8080/"
        },
        "id": "r4ommJoqsh26",
        "outputId": "3530b835-d6f2-4355-a693-9b5cfb7a300a"
      },
      "execution_count": null,
      "outputs": [
        {
          "output_type": "execute_result",
          "data": {
            "text/plain": [
              "[7, 8, 9, 15]"
            ]
          },
          "metadata": {},
          "execution_count": 14
        }
      ]
    },
    {
      "cell_type": "code",
      "source": [
        "fruits=['apple','guava','anaar','orange']\n",
        "list(filter(lambda x:x.startswith('a'),fruits))"
      ],
      "metadata": {
        "colab": {
          "base_uri": "https://localhost:8080/"
        },
        "id": "hU1OyiEZsh6e",
        "outputId": "125aaf7d-2290-486a-f493-3a6503edb335"
      },
      "execution_count": null,
      "outputs": [
        {
          "output_type": "execute_result",
          "data": {
            "text/plain": [
              "['apple', 'anaar']"
            ]
          },
          "metadata": {},
          "execution_count": 17
        }
      ]
    },
    {
      "cell_type": "markdown",
      "source": [
        "REDUCE"
      ],
      "metadata": {
        "id": "G8fZHt74wimw"
      }
    },
    {
      "cell_type": "code",
      "source": [
        "#sum of all items\n",
        "import functools\n",
        "functools.reduce(lambda x,y:x+y,[1,2,3,4,5])"
      ],
      "metadata": {
        "colab": {
          "base_uri": "https://localhost:8080/"
        },
        "id": "OzmoDjHJwhaa",
        "outputId": "4c75b7ac-348d-4b43-ea64-726c6594f0d8"
      },
      "execution_count": null,
      "outputs": [
        {
          "output_type": "execute_result",
          "data": {
            "text/plain": [
              "15"
            ]
          },
          "metadata": {},
          "execution_count": 18
        }
      ]
    },
    {
      "cell_type": "code",
      "source": [
        "functools.reduce(lambda x,y: x if x>y else y,[1,1,6,2,4,45])"
      ],
      "metadata": {
        "colab": {
          "base_uri": "https://localhost:8080/"
        },
        "id": "V73B8cSYw3hF",
        "outputId": "bed2f557-3a14-435c-fc81-180b03210c0d"
      },
      "execution_count": null,
      "outputs": [
        {
          "output_type": "execute_result",
          "data": {
            "text/plain": [
              "45"
            ]
          },
          "metadata": {},
          "execution_count": 19
        }
      ]
    },
    {
      "cell_type": "markdown",
      "source": [
        "constructor is a special function where we dont need to call it explicitly we can call them by making an object"
      ],
      "metadata": {
        "id": "uo1ok5p7qLRb"
      }
    },
    {
      "cell_type": "markdown",
      "source": [
        "Creating a banking system\n"
      ],
      "metadata": {
        "id": "hJ3ozdIPCeDA"
      }
    },
    {
      "source": [
        "class Atm:\n",
        "    #constructor\n",
        "    def __init__(self):\n",
        "        self.pin=\"\"\n",
        "        self.balance=0\n",
        "        self.menu() # Call menu method\n",
        "\n",
        "    def menu(self):\n",
        "        user_input = input(\"\"\"Hi how can i help you\n",
        "        1. To create pin\n",
        "        2. To change pin\n",
        "        3. To check balance\n",
        "        4. To withdraw\n",
        "        5. To exit\n",
        "        \"\"\")\n",
        "        # The following block of code should be indented to be within the menu() function\n",
        "        if user_input == \"1\":\n",
        "            self.create_pin() # Call create_pin method with self\n",
        "        elif user_input == \"2\":\n",
        "            self.change_pin()\n",
        "        elif user_input ==\"3\":\n",
        "            self.check_balance()\n",
        "        elif user_input ==\"4\":\n",
        "            self.withdraw()\n",
        "        else:\n",
        "            exit()\n",
        "    def create_pin(self):\n",
        "        user_pin=(input(\"ENTER THE PIN\"))\n",
        "        self.pin=user_pin\n",
        "        user_balance=(input(\"YOUR BALANCE\"))\n",
        "        self.balance=user_balance\n",
        "        print(\"PIN CREATED SUCCESSFULLY\")\n",
        "        self.menu()\n",
        "    def change_pin(self):\n",
        "        old_pin=input(\"ENTER OLD PIN\")\n",
        "        if old_pin==self.pin:\n",
        "            new_pin=input(\"ENTER THE NEW PIN\")\n",
        "            self.pin=old_pin\n",
        "            print(\"PIN CHANGED\")\n",
        "        else:\n",
        "            print(\"wrong pin\")\n",
        "        self.menu()\n",
        "    def check_balance(self):\n",
        "        user_input=input(\"ENTER THE PIN\")\n",
        "        if user_input==self.pin:\n",
        "            print(\"YOUR BALANCE:\",self.balance)\n",
        "        else:\n",
        "            print(\"WRONG PINN\")\n",
        "        self.menu()\n",
        "    def withdraw(self):\n",
        "        user_input=input(\"Enter your pin\")\n",
        "        if user_input==self.pin:\n",
        "            amount=input(\"ENTER THE AMOUNT\")\n",
        "            if amount <= self.balance:\n",
        "                self.balance = self.balance - amount\n",
        "                print(\"withrawal done\",self.balance)\n",
        "            else:\n",
        "                print(\"LESS BALANCE\")\n",
        "        else:\n",
        "         print(\"WRONG\")\n",
        "        self.menu()\n",
        "\n",
        "\n",
        "\n"
      ],
      "cell_type": "code",
      "metadata": {
        "id": "w_5Swpm8J8eU"
      },
      "execution_count": null,
      "outputs": []
    },
    {
      "cell_type": "code",
      "source": [
        "obj=Atm()"
      ],
      "metadata": {
        "collapsed": true,
        "id": "fG_5GPHVqAus"
      },
      "execution_count": null,
      "outputs": []
    },
    {
      "cell_type": "markdown",
      "source": [
        "A function which is present inside the class is called as method and a function outside the class which exisyts independently is called as functions\n"
      ],
      "metadata": {
        "id": "AnIknODcTBCp"
      }
    },
    {
      "cell_type": "code",
      "source": [
        "L=[1,2,3,4]\n",
        "len(L)#function as it is outside the list class\n",
        "L.append(7)#method as it is present inside the list class\n"
      ],
      "metadata": {
        "id": "cTGqanFzqAw1"
      },
      "execution_count": null,
      "outputs": []
    },
    {
      "cell_type": "markdown",
      "source": [],
      "metadata": {
        "id": "SKMG0wBha2ep"
      }
    },
    {
      "cell_type": "markdown",
      "source": [
        "suppose a contructor is used in places where we  want to call a certain function without the need of users decision eg: starting an application automatically\n",
        "eg if a good is programmer humans are object then death act as a constructor becoz humans dont have control on it"
      ],
      "metadata": {
        "id": "A3eOj-8Aa2uL"
      }
    },
    {
      "cell_type": "markdown",
      "source": [
        "SELF it is a default parameter whenever we create a method\n",
        "golden rule: whatver is present inside the class can be accessible by the object of that class\n",
        "SELF is treated as an  object of the class which you have defined\n",
        "SELF is the current object and it is used to help methods of a class to interact with each other\n",
        "we can use another word other rthan self like salman but keyword is required"
      ],
      "metadata": {
        "id": "hitsObyjdFGW"
      }
    },
    {
      "cell_type": "code",
      "source": [
        "#creating a fraction data type using a moagic method str\n",
        "class Fraction:\n",
        "    def __init__(self,x,y):\n",
        "        self.num=x\n",
        "        self.den=y\n",
        "\n",
        "    def __str__(self):\n",
        "        #it is used to print\n",
        "        return '{}/{}'.format(self.num,self.den)"
      ],
      "metadata": {
        "id": "pkj3ztfIb8dy"
      },
      "execution_count": null,
      "outputs": []
    },
    {
      "cell_type": "code",
      "source": [
        "abj=Fraction(3,4)\n",
        "print(abj)"
      ],
      "metadata": {
        "colab": {
          "base_uri": "https://localhost:8080/"
        },
        "id": "8GdKHy50qA0X",
        "outputId": "1b38424c-6f18-4933-f5cb-4a693da509ec"
      },
      "execution_count": null,
      "outputs": [
        {
          "output_type": "stream",
          "name": "stdout",
          "text": [
            "3/4\n"
          ]
        }
      ]
    },
    {
      "cell_type": "markdown",
      "source": [
        "Write oop classes toh handle the following scenarios:\n",
        "1. A user can create and view 2Dcoordinates\n",
        "2. A user can find out the distance between 2 coordinates\n",
        "3. A user can find the distance of a coordinate from origin\n",
        "4.  A user can find the distance between a given 2D point and a given line"
      ],
      "metadata": {
        "id": "wFgO_Slyn5cY"
      }
    },
    {
      "cell_type": "code",
      "source": [
        "class Point:\n",
        "    def __init__(self,x,y):\n",
        "        self.x_cod=x\n",
        "        self.y_cod=y\n",
        "#now we will use str function which shows how to print the object in our class\n",
        "\n",
        "    def __str__(self):\n",
        "            return '<{},{}>'.format(self.x_cod,self.y_cod)\n",
        "\n",
        "    def euclidean_distance(self,other):\n",
        "            return ((self.x_cod-other.x_cod)**2+(self.y_cod-other.y_cod)**2)**0.5\n",
        "    def distance_from_origin(self):\n",
        "        return self.euclidean_distance(Point(0,0))\n",
        "\n",
        "\n",
        "class Line:\n",
        "    def __init__(self,A,B,C):\n",
        "        self.A=A\n",
        "        self.B=B\n",
        "        self.C=C\n",
        "    def __str__(self):\n",
        "        return '{}x + {}y + {}=0'.format(self.A,self.B,self.C )\n",
        "    def point_on_line(line,point):\n",
        "        if line.A*point.x_cod+line.B*point.y_cod+ line.C==0:\n",
        "             return 'lies on line'\n",
        "        else:\n",
        "            return 'does not lie'\n",
        "    def shortest_distance(line,point):\n",
        "        return abs(line.A*point.x_cod + line.B*point.y_cod + line.C)/(line.A**2 + line.B**2)"
      ],
      "metadata": {
        "id": "LHgot1EeokL7"
      },
      "execution_count": null,
      "outputs": []
    },
    {
      "cell_type": "code",
      "source": [
        "#p1=Point(0,0)\n",
        "#p2=Point(2,2)\n",
        "#print(p1)\n",
        "#p1.euclidean_distance(p2)\n",
        "#p1.distance_from_origin()\n",
        "l1=Line(1,1,-2)\n",
        "p1=Point(1,1)\n",
        "#l1.point_on_line(p1)\n",
        "l1.shortest_distance(p1)"
      ],
      "metadata": {
        "colab": {
          "base_uri": "https://localhost:8080/"
        },
        "id": "mCVj8J6yjAD3",
        "outputId": "48a59846-3551-4dc4-c4f5-4cd1a515bd80"
      },
      "execution_count": null,
      "outputs": [
        {
          "output_type": "execute_result",
          "data": {
            "text/plain": [
              "0.0"
            ]
          },
          "metadata": {},
          "execution_count": 3
        }
      ]
    },
    {
      "cell_type": "markdown",
      "source": [
        "HOW object acess attributes"
      ],
      "metadata": {
        "id": "hTB2y0dJUL2m"
      }
    },
    {
      "cell_type": "code",
      "source": [
        "class Person:\n",
        "    def __init__(self,name_input,country_input):\n",
        "        self.name=name_input\n",
        "        self.country=country_input\n",
        "    def greet(self):\n",
        "        if self.country=='india':\n",
        "            print('namaste',self.name)\n",
        "        else:\n",
        "            print('hello',self.name)"
      ],
      "metadata": {
        "id": "oh3aMj8Fwoso"
      },
      "execution_count": null,
      "outputs": []
    },
    {
      "cell_type": "code",
      "source": [
        "#how to access attributes\n",
        "p=Person('aashi','india')"
      ],
      "metadata": {
        "id": "lMH3UJvgwo39"
      },
      "execution_count": null,
      "outputs": []
    },
    {
      "cell_type": "code",
      "source": [
        "p.country"
      ],
      "metadata": {
        "colab": {
          "base_uri": "https://localhost:8080/",
          "height": 36
        },
        "id": "jL2BlVMhwo7u",
        "outputId": "b885ccf9-9986-45fa-aed7-68ddb83143f9"
      },
      "execution_count": null,
      "outputs": [
        {
          "output_type": "execute_result",
          "data": {
            "text/plain": [
              "'india'"
            ],
            "application/vnd.google.colaboratory.intrinsic+json": {
              "type": "string"
            }
          },
          "metadata": {},
          "execution_count": 8
        }
      ]
    },
    {
      "cell_type": "code",
      "source": [
        "#how to access method\n",
        "p.greet()"
      ],
      "metadata": {
        "colab": {
          "base_uri": "https://localhost:8080/"
        },
        "id": "QT357nBfUi33",
        "outputId": "517b7f39-707c-46bc-d53b-462e3ae53c06"
      },
      "execution_count": null,
      "outputs": [
        {
          "output_type": "stream",
          "name": "stdout",
          "text": [
            "namaste aashi\n"
          ]
        }
      ]
    },
    {
      "cell_type": "markdown",
      "source": [
        "Attribute creation from outside of the class that is we can create attributes for an object outside the class too\n"
      ],
      "metadata": {
        "id": "xA623x0TUrHm"
      }
    },
    {
      "cell_type": "code",
      "source": [
        "p.gender='female'"
      ],
      "metadata": {
        "id": "L5GRRjbXUi7f"
      },
      "execution_count": null,
      "outputs": []
    },
    {
      "cell_type": "code",
      "source": [
        "p.gender"
      ],
      "metadata": {
        "colab": {
          "base_uri": "https://localhost:8080/",
          "height": 36
        },
        "id": "HZ_gIO4CU9o4",
        "outputId": "697689ae-084d-4d24-c4a4-fbc2b26b7496"
      },
      "execution_count": null,
      "outputs": [
        {
          "output_type": "execute_result",
          "data": {
            "text/plain": [
              "'female'"
            ],
            "application/vnd.google.colaboratory.intrinsic+json": {
              "type": "string"
            }
          },
          "metadata": {},
          "execution_count": 11
        }
      ]
    },
    {
      "cell_type": "markdown",
      "source": [
        "Reference variable holds the object\n",
        "We can create objects without reference variable as well\n",
        "An object can have multiple refernce variables\n",
        "Assigning a new reference variable to an existing object does not create a new object"
      ],
      "metadata": {
        "id": "2imuSMd8Vd3c"
      }
    },
    {
      "cell_type": "code",
      "source": [
        "#object without refernece\n",
        "#that is without giving it a name\n",
        "class Person:\n",
        "    def __init__(self):\n",
        "        self.name='aashi'\n",
        "        self.age='23'\n",
        "Person()\n",
        "p=Person()\n",
        "q=p"
      ],
      "metadata": {
        "id": "oHJgZ2fYU_11"
      },
      "execution_count": null,
      "outputs": []
    },
    {
      "cell_type": "code",
      "source": [
        "#multiple reference\n",
        "print(id(p))\n",
        "print(id(q))"
      ],
      "metadata": {
        "colab": {
          "base_uri": "https://localhost:8080/"
        },
        "id": "otapxk_gWpXA",
        "outputId": "2be25451-ee53-4d42-9461-ece2b3c655d4"
      },
      "execution_count": null,
      "outputs": [
        {
          "output_type": "stream",
          "name": "stdout",
          "text": [
            "132576221958800\n",
            "132576221958800\n"
          ]
        }
      ]
    },
    {
      "cell_type": "markdown",
      "source": [
        "Pass by reference in this we send object address as reference\n"
      ],
      "metadata": {
        "id": "kNLs0BwZZRd0"
      }
    },
    {
      "cell_type": "code",
      "source": [
        "class Person:\n",
        "    def __init__(self,name,gender):\n",
        "        self.name=name\n",
        "        self.gender=gender\n",
        "def greet(Person):\n",
        "    print('hi my name is ',Person.name,Person.gender)\n",
        "p=Person('aashi','female')\n",
        "greet(p)"
      ],
      "metadata": {
        "colab": {
          "base_uri": "https://localhost:8080/"
        },
        "id": "nf4YFpeLWzy_",
        "outputId": "32ae488b-3c23-4165-d9f1-e464afeab9da"
      },
      "execution_count": null,
      "outputs": [
        {
          "output_type": "stream",
          "name": "stdout",
          "text": [
            "hi my name is  aashi female\n"
          ]
        }
      ]
    },
    {
      "cell_type": "markdown",
      "source": [
        "objects are mutable in user defined classes. the changes take place in the memory without changing the address"
      ],
      "metadata": {
        "id": "QjVZFyYq0avf"
      }
    },
    {
      "cell_type": "markdown",
      "source": [
        "Instance Variable=where instance variable is a variable in which value is diff depending on the object\n",
        "Encapsulation= in order to protect the data we combine the data(value) and its two methods getter and setter through which we can expose them in the real world while data being protected. Technically we do this by using getter and setter for each attribute.\n",
        "And using getter and setter we can protect the data by giving various if else conditions\n"
      ],
      "metadata": {
        "id": "Os8QjPES1zbh"
      }
    },
    {
      "cell_type": "markdown",
      "source": [
        "getter and setter methods\n",
        "getter is used to show the private value outside the class whereas setter is used to change the private value outside the class\n",
        "\n"
      ],
      "metadata": {
        "id": "aoapQrYLf23Q"
      }
    },
    {
      "cell_type": "markdown",
      "source": [
        "Static variable is a class variable whereas instance variable is an object variable"
      ],
      "metadata": {
        "id": "x2WY_Mm7v2bi"
      }
    },
    {
      "cell_type": "code",
      "source": [],
      "metadata": {
        "id": "L1mSJSZuW0WH"
      },
      "execution_count": null,
      "outputs": []
    },
    {
      "cell_type": "code",
      "source": [],
      "metadata": {
        "id": "pTV9p62e1ndF"
      },
      "execution_count": null,
      "outputs": []
    },
    {
      "cell_type": "code",
      "source": [],
      "metadata": {
        "id": "a8Kk6Vq21n6m"
      },
      "execution_count": null,
      "outputs": []
    }
  ]
}